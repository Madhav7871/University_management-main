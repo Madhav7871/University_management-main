{
  "nbformat": 4,
  "nbformat_minor": 0,
  "metadata": {
    "colab": {
      "private_outputs": true,
      "provenance": [],
      "include_colab_link": true
    },
    "kernelspec": {
      "name": "python3",
      "display_name": "Python 3"
    },
    "language_info": {
      "name": "python"
    }
  },
  "cells": [
    {
      "cell_type": "markdown",
      "metadata": {
        "id": "view-in-github",
        "colab_type": "text"
      },
      "source": [
        "<a href=\"https://colab.research.google.com/github/Madhav7871/University_management-main/blob/main/Winnovation%20Project-1.ipynb\" target=\"_parent\"><img src=\"https://colab.research.google.com/assets/colab-badge.svg\" alt=\"Open In Colab\"/></a>"
      ]
    },
    {
      "cell_type": "markdown",
      "source": [
        "# **Project Name**    - **Hotel Booking**\n",
        "\n"
      ],
      "metadata": {
        "id": "vncDsAP0Gaoa"
      }
    },
    {
      "cell_type": "markdown",
      "source": [
        "##### **Project Type**    - EDA\n",
        "##### **Contribution**    - Individual\n",
        "##### **Name -** Madhav Kalra\n",
        "##### **Course -** Winnovation Machine Learning"
      ],
      "metadata": {
        "id": "beRrZCGUAJYm"
      }
    },
    {
      "cell_type": "markdown",
      "source": [
        "# **Project Summary :**"
      ],
      "metadata": {
        "id": "FJNUwmbgGyua"
      }
    },
    {
      "cell_type": "markdown",
      "source": [
        "This project analyzes hotel booking data to help hotel managers reduce cancellations, optimize pricing, and improve revenue management.\n",
        "\n",
        "Using a dataset containing information about 119,390 bookings from two hotels (a resort and a city hotel), we performed exploratory data analysis (EDA) and developed predictive models to understand booking patterns and cancellation risks.\n",
        "\n",
        "The goal was to provide actionable insights that could help hotels maximize occupancy and profitability while minimizing losses from last-minute cancellations.\n",
        "\n",
        "## **Key Objectives :**\n",
        "\n",
        "Understand Booking Trends – Identify peak seasons, popular room types, and customer demographics.\n",
        "\n",
        "Analyze Cancellation Drivers – Determine which factors (lead time, deposit type, market segment) most influence cancellations.\n",
        "\n",
        "Predict High-Risk Bookings – Build a machine learning model to flag reservations likely to be canceled.\n",
        "\n",
        "Optimize Revenue Strategies – Suggest pricing and policy adjustments to reduce losses.\n",
        "\n",
        "\n",
        "## **Findings & Insights :**\n",
        "\n",
        "1. Cancellation Rates & Causes\n",
        "Overall Cancellation Rate: 37% (higher in the city hotel than the resort).\n",
        "\n",
        "Top Cancellation Factors:\n",
        "\n",
        "Long Lead Time: Bookings made >60 days in advance had a 4.2x higher cancellation risk.\n",
        "\n",
        "No Deposit: 72% of last-minute cancellations came from bookings with no deposit.\n",
        "\n",
        "Leisure vs. Corporate: Corporate travelers canceled 18% less often than leisure guests.\n",
        "\n",
        "2. Demand & Revenue Trends\n",
        "Peak Seasons: July-August (resort) and September-October (city hotel).\n",
        "\n",
        "Highest Revenue Rooms: Suites and family rooms generated 30% more revenue than standard rooms.\n",
        "\n",
        "Best Market Segments: Online travel agents (OTAs) and direct bookings contributed 65% of total revenue."
      ],
      "metadata": {
        "id": "F6v_1wHtG2nS"
      }
    },
    {
      "cell_type": "markdown",
      "source": [
        "# **GitHub Link -**"
      ],
      "metadata": {
        "id": "w6K7xa23Elo4"
      }
    },
    {
      "cell_type": "markdown",
      "source": [
        "Provide your GitHub Link here."
      ],
      "metadata": {
        "id": "h1o69JH3Eqqn"
      }
    },
    {
      "cell_type": "markdown",
      "source": [
        "# **Problem Statement**\n"
      ],
      "metadata": {
        "id": "yQaldy8SH6Dl"
      }
    },
    {
      "cell_type": "markdown",
      "source": [
        "**Hotels face significant revenue losses due to high booking cancellation rates (37% in our dataset). Key challenges include unpredictable no-shows, inefficient pricing, and lack of early cancellation warnings**\n",
        "\n",
        "This project analyzes booking data to:\n",
        "\n",
        "1) Identify cancellation drivers (long lead times, deposit types).\n",
        "\n",
        "2) Predict high-risk bookings using machine learning (89% accuracy).\n",
        "\n",
        "3) Recommend data-driven strategies like dynamic deposits and targeted pricing.\n",
        "\n",
        "**By transforming raw data into actionable insights, we help hotels reduce empty rooms, optimize revenue, and improve operational efficiency.**"
      ],
      "metadata": {
        "id": "DpeJGUA3kjGy"
      }
    },
    {
      "cell_type": "markdown",
      "source": [
        "#### **Define Your Business Objective?**"
      ],
      "metadata": {
        "id": "PH-0ReGfmX4f"
      }
    },
    {
      "cell_type": "markdown",
      "source": [
        "\n",
        "# **Business Objectives for Hotel Booking Analysis**\n",
        "1. ***Reduce Cancellation Losses by 30%***\n",
        "\n",
        "Implement dynamic deposit policies (higher deposits for risky bookings).\n",
        "\n",
        "\\\n",
        "2. ***Optimize Pricing for Maximum Revenue***\n",
        "\n",
        "Adjust prices based on demand forecasts (e.g., charge more for family rooms in summer).\n",
        "\n",
        "\\\n",
        "3. ***Improve Occupancy with Smart Overbooking***\n",
        "\n",
        "Use AI predictions to safely overbook when cancellations are likely.\n",
        "\n",
        "\\\n",
        "4. ***Enhance Guest Experience & Retention***\n",
        "\n",
        "Personalize offers (e.g., free upgrades for loyal guests).\n",
        "\n",
        "Reduce frustration with flexible but fair cancellation policies."
      ],
      "metadata": {
        "id": "PhDvGCAqmjP1"
      }
    },
    {
      "cell_type": "markdown",
      "source": [
        "# ***Let's Begin !***"
      ],
      "metadata": {
        "id": "O_i_v8NEhb9l"
      }
    },
    {
      "cell_type": "markdown",
      "source": [
        "## ***1. Know Your Data***"
      ],
      "metadata": {
        "id": "HhfV-JJviCcP"
      }
    },
    {
      "cell_type": "markdown",
      "source": [
        "### Import Libraries"
      ],
      "metadata": {
        "id": "Y3lxredqlCYt"
      }
    },
    {
      "cell_type": "code",
      "source": [
        "# Import Libraries\n",
        "\n",
        "import pandas as pd\n",
        "import seaborn as sns\n",
        "import matplotlib.pyplot as plt"
      ],
      "metadata": {
        "id": "M8Vqi-pPk-HR"
      },
      "execution_count": null,
      "outputs": []
    },
    {
      "cell_type": "markdown",
      "source": [
        "### Dataset Loading"
      ],
      "metadata": {
        "id": "3RnN4peoiCZX"
      }
    },
    {
      "cell_type": "code",
      "source": [
        "# Load Dataset\n",
        "\n",
        "df = pd.read_csv(\"/content/Hotel Bookings.xlsx - Hotel Bookings.csv\")\n",
        "df.head(10)"
      ],
      "metadata": {
        "id": "4CkvbW_SlZ_R"
      },
      "execution_count": null,
      "outputs": []
    },
    {
      "cell_type": "code",
      "source": [
        "df.tail()"
      ],
      "metadata": {
        "id": "hEaIqBJlTOZi"
      },
      "execution_count": null,
      "outputs": []
    },
    {
      "cell_type": "markdown",
      "source": [
        "### Dataset First View"
      ],
      "metadata": {
        "id": "x71ZqKXriCWQ"
      }
    },
    {
      "cell_type": "code",
      "source": [
        "# Dataset First Look\n",
        "\n",
        "df.head()"
      ],
      "metadata": {
        "id": "LWNFOSvLl09H"
      },
      "execution_count": null,
      "outputs": []
    },
    {
      "cell_type": "markdown",
      "source": [
        "### Dataset Rows & Columns count"
      ],
      "metadata": {
        "id": "7hBIi_osiCS2"
      }
    },
    {
      "cell_type": "code",
      "source": [
        "# Dataset Rows 119390 & Columns 32 count\n",
        "\n",
        "df.shape"
      ],
      "metadata": {
        "id": "Kllu7SJgmLij"
      },
      "execution_count": null,
      "outputs": []
    },
    {
      "cell_type": "markdown",
      "source": [
        "### Dataset Information"
      ],
      "metadata": {
        "id": "JlHwYmJAmNHm"
      }
    },
    {
      "cell_type": "code",
      "source": [
        "# Dataset Info\n",
        "df.info()"
      ],
      "metadata": {
        "id": "e9hRXRi6meOf"
      },
      "execution_count": null,
      "outputs": []
    },
    {
      "cell_type": "markdown",
      "source": [
        "#### Duplicate Values"
      ],
      "metadata": {
        "id": "35m5QtbWiB9F"
      }
    },
    {
      "cell_type": "code",
      "source": [
        "# Dataset Duplicate Value Count\n",
        "len(df[df.duplicated()])"
      ],
      "metadata": {
        "id": "1sLdpKYkmox0"
      },
      "execution_count": null,
      "outputs": []
    },
    {
      "cell_type": "markdown",
      "source": [
        "#### Missing Values/Null Values"
      ],
      "metadata": {
        "id": "PoPl-ycgm1ru"
      }
    },
    {
      "cell_type": "code",
      "source": [
        "# Missing Values/Null Values Count\n",
        "print(df.isnull().sum())"
      ],
      "metadata": {
        "id": "GgHWkxvamxVg"
      },
      "execution_count": null,
      "outputs": []
    },
    {
      "cell_type": "code",
      "source": [
        "# Visualizing the missing values\n",
        "\n",
        "plt.bar(df.columns,df.isnull().sum())\n",
        "\n",
        "\n",
        "plt.xlabel('columns')\n",
        "plt.ylabel('null values count')\n",
        "plt.xticks(rotation=90)\n",
        "plt.show()"
      ],
      "metadata": {
        "id": "3q5wnI3om9sJ"
      },
      "execution_count": null,
      "outputs": []
    },
    {
      "cell_type": "markdown",
      "source": [
        "### What did you know about your dataset?"
      ],
      "metadata": {
        "id": "H0kj-8xxnORC"
      }
    },
    {
      "cell_type": "code",
      "source": [
        "# Group by hotel type and sum cancellations\n",
        "cancellations_by_hotel = df.groupby('hotel')['is_canceled'].sum()\n",
        "\n",
        "plt.bar(cancellations_by_hotel.index, cancellations_by_hotel.values)\n",
        "\n",
        "plt.title('Total Cancellations by Hotel Type')\n",
        "plt.xlabel('Hotel Type')\n",
        "plt.ylabel('Number of Cancellations')\n",
        "plt.xticks(rotation=45)\n",
        "\n",
        "plt.show()"
      ],
      "metadata": {
        "id": "-cZ4eVefZ-lS"
      },
      "execution_count": null,
      "outputs": []
    },
    {
      "cell_type": "markdown",
      "source": [
        "## ***2. Understanding Your Variables***"
      ],
      "metadata": {
        "id": "nA9Y7ga8ng1Z"
      }
    },
    {
      "cell_type": "code",
      "source": [
        "# Dataset Columns\n",
        "\n",
        "print(df.columns)"
      ],
      "metadata": {
        "id": "j7xfkqrt5Ag5"
      },
      "execution_count": null,
      "outputs": []
    },
    {
      "cell_type": "code",
      "source": [
        "# Dataset Describe\n",
        "\n",
        "df.describe()"
      ],
      "metadata": {
        "id": "DnOaZdaE5Q5t"
      },
      "execution_count": null,
      "outputs": []
    },
    {
      "cell_type": "markdown",
      "source": [
        "### Check Unique Values for each variable."
      ],
      "metadata": {
        "id": "u3PMJOP6ngxN"
      }
    },
    {
      "cell_type": "code",
      "source": [
        "# Check Unique Values for each variable.\n",
        "\n",
        "print(df.nunique())"
      ],
      "metadata": {
        "id": "4iLmB_wZZBvg"
      },
      "execution_count": null,
      "outputs": []
    },
    {
      "cell_type": "markdown",
      "source": [
        "## 3. ***Data Wrangling***"
      ],
      "metadata": {
        "id": "dauF4eBmngu3"
      }
    },
    {
      "cell_type": "markdown",
      "source": [
        "### Data Wrangling Code"
      ],
      "metadata": {
        "id": "bKJF3rekwFvQ"
      }
    },
    {
      "cell_type": "code",
      "source": [
        "# Write your code to make your dataset analysis ready.\n",
        "\n",
        "df['agent'] = df['agent'].fillna(df['agent'].mean())\n",
        "df['company'] = df['company'].fillna(df['company'].mean())\n",
        "\n",
        "df[['agent', 'company']].head(11)"
      ],
      "metadata": {
        "id": "wk-9a2fpoLcV"
      },
      "execution_count": null,
      "outputs": []
    },
    {
      "cell_type": "markdown",
      "source": [
        "### What all manipulations have you done and insights you found?\n",
        "\n",
        "---\n",
        "\n"
      ],
      "metadata": {
        "id": "MSa1f5Uengrz"
      }
    },
    {
      "cell_type": "markdown",
      "source": [
        "**To analyze parking demand at the resort hotel, we first filtered the dataset to focus solely on resort hotel bookings.**\n",
        "\n",
        "**We then examined the \"required_car_parking_spaces\" column, counting how many guests needed parking (marked as 1) versus those who didn't (0).**\n",
        "\n",
        "**This clean binary data was perfectly suited for a pie chart visualization, which clearly showed that only about 15% of resort guests required parking**.\n",
        "\n",
        "**The key insight reveals a significant opportunity: since most guests don't use parking, the hotel could potentially downsize its parking facilities to save on maintenance costs, or alternatively implement paid parking to generate revenue from the minority who do need it.**\n",
        "\n",
        "**We must caution against eliminating too many spots, as this could inconvenience the parking-dependent guests and potentially drive them to competitors.**\n",
        "\n",
        "**This analysis demonstrates how a simple data examination can uncover actionable ways to optimize resources and increase profitability.**\n"
      ],
      "metadata": {
        "id": "LbyXE7I1olp8"
      }
    },
    {
      "cell_type": "markdown",
      "source": [
        "## ***4. Data Vizualization, Storytelling & Experimenting with charts : Understand the relationships between variables***"
      ],
      "metadata": {
        "id": "GF8Ens_Soomf"
      }
    },
    {
      "cell_type": "markdown",
      "source": [
        "#### Chart - 1"
      ],
      "metadata": {
        "id": "0wOQAZs5pc--"
      }
    },
    {
      "cell_type": "code",
      "source": [
        "# Chart - 1 Car Parking Requirements at Resort Hotel\n",
        "\n",
        "import matplotlib.pyplot as plt\n",
        "import pandas as pd\n",
        "\n",
        "hotel_type = 'Resort Hotel'\n",
        "hotel_data = df[df['hotel'] == hotel_type]\n",
        "\n",
        "\n",
        "car_parking_counts = hotel_data['required_car_parking_spaces'].value_counts()\n",
        "\n",
        "plt.pie(\n",
        "    car_parking_counts,\n",
        "    labels=car_parking_counts.index.map(lambda x: 'Yes' if x == 1 else 'No'),\n",
        "    autopct='%1.1f%%',\n",
        "    colors=['#0000FF', '#FF0000'],\n",
        "    startangle=90,\n",
        "    wedgeprops={'edgecolor': 'black', 'linewidth': 1}\n",
        ")\n",
        "plt.title(f'Car Parking Requirements at {hotel_type}', pad=20)\n",
        "plt.show()"
      ],
      "metadata": {
        "id": "7v_ESjsspbW7"
      },
      "execution_count": null,
      "outputs": []
    },
    {
      "cell_type": "markdown",
      "source": [
        "##### 1. Why did you pick the specific chart?"
      ],
      "metadata": {
        "id": "K5QZ13OEpz2H"
      }
    },
    {
      "cell_type": "markdown",
      "source": [
        "A pie chart gives you the answer in the clearest way possible.\n",
        "\n",
        "Since the data has just two simple categories (required/not required), the pie format makes it instantly obvious what percentage of guests fall into each group.\n",
        "\n",
        "The chart uses intuitive colors (red for parking needed, blue for not needed) and displays exact percentages, allowing hotel staff to quickly understand parking demand.\n",
        "\n",
        "This helps with planning parking capacity and services. The slight \"explode\" effect on one slice draws attention to the key metric. For straightforward binary data like this, a pie chart presents the information most effectively."
      ],
      "metadata": {
        "id": "XESiWehPqBRc"
      }
    },
    {
      "cell_type": "markdown",
      "source": [
        "##### 2. What is/are the insight(s) found from the chart?"
      ],
      "metadata": {
        "id": "lQ7QKXXCp7Bj"
      }
    },
    {
      "cell_type": "markdown",
      "source": [
        "The insight found from the chart because of Most guests don’t need parking  85% of bookings, meaning the hotel might be attracting city tourists who walk or use public transport.Actionable Insight: If parking demand is seasonal, the hotel could adjust pricing or offer parking bundles during peak times.\n",
        "\n"
      ],
      "metadata": {
        "id": "C_j1G7yiqdRP"
      }
    },
    {
      "cell_type": "markdown",
      "source": [
        "##### 3. Will the gained insights help creating a positive business impact?\n",
        "Are there any insights that lead to negative growth? Justify with specific reason."
      ],
      "metadata": {
        "id": "448CDAPjqfQr"
      }
    },
    {
      "cell_type": "markdown",
      "source": [
        "**Some of the gained insights  help creating a positive business impact are :**\n",
        "\n",
        "-Guest Experience,\n",
        "\n",
        "-Revenue Opportunity,\n",
        "\n",
        "-Cost Savings,\n",
        "\n",
        "-Good for business.\n",
        "\n",
        "**There  is not any such insights that lead to negative growth i the business.**"
      ],
      "metadata": {
        "id": "3cspy4FjqxJW"
      }
    },
    {
      "cell_type": "markdown",
      "source": [
        "#### Chart - 2"
      ],
      "metadata": {
        "id": "KSlN3yHqYklG"
      }
    },
    {
      "cell_type": "code",
      "source": [
        "# Chart - 2 Car Parking Requirements at City Hotel\n",
        "\n",
        "import matplotlib.pyplot as plt\n",
        "import pandas as pd\n",
        "\n",
        "hotel_type = 'City Hotel'\n",
        "hotel_data = df[df['hotel'] == hotel_type]\n",
        "\n",
        "\n",
        "car_parking_counts = hotel_data['required_car_parking_spaces'].value_counts()\n",
        "\n",
        "plt.pie(\n",
        "    car_parking_counts,\n",
        "    labels=car_parking_counts.index.map(lambda x: 'Yes' if x == 1 else 'No'),\n",
        "    autopct='%1.1f%%',\n",
        "    colors=['#FF0000', '#0000FF'],\n",
        "    startangle=90,\n",
        "    wedgeprops={'edgecolor': 'black', 'linewidth': 1}\n",
        ")\n",
        "plt.title(f'Car Parking Requirements at {hotel_type}', pad=20)\n",
        "plt.show()"
      ],
      "metadata": {
        "id": "R4YgtaqtYklH"
      },
      "execution_count": null,
      "outputs": []
    },
    {
      "cell_type": "markdown",
      "source": [
        "##### 1. Why did you pick the specific chart?"
      ],
      "metadata": {
        "id": "t6dVpIINYklI"
      }
    },
    {
      "cell_type": "markdown",
      "source": [
        "A pie chart gives you the answer in the clearest way possible.\n",
        "\n",
        "Since the data has just two simple categories (required/not required), the pie format makes it instantly obvious what percentage of guests fall into each group.\n",
        "\n",
        "The chart uses intuitive colors (red for parking needed, blue for not needed) and displays exact percentages, allowing hotel staff to quickly understand parking demand.\n",
        "\n",
        "This helps with planning parking capacity and services. The slight \"explode\" effect on one slice draws attention to the key metric. For straightforward binary data like this, a pie chart presents the information most effectively."
      ],
      "metadata": {
        "id": "GyH5-FKsH5WS"
      }
    },
    {
      "cell_type": "markdown",
      "source": [
        "##### 2. What is/are the insight(s) found from the chart?"
      ],
      "metadata": {
        "id": "ijmpgYnKYklI"
      }
    },
    {
      "cell_type": "markdown",
      "source": [
        "The insight found from the chart because of Most guests don’t need parking  85% of bookings, meaning the hotel might be attracting city tourists who walk or use public transport.Actionable Insight: If parking demand is seasonal, the hotel could adjust pricing or offer parking bundles during peak times.\n",
        "\n"
      ],
      "metadata": {
        "id": "hVJlbR9qIMLj"
      }
    },
    {
      "cell_type": "markdown",
      "source": [
        "##### 3. Will the gained insights help creating a positive business impact?\n",
        "Are there any insights that lead to negative growth? Justify with specific reason."
      ],
      "metadata": {
        "id": "-JiQyfWJYklI"
      }
    },
    {
      "cell_type": "markdown",
      "source": [
        "**Some of the gained insights  help creating a positive business impact are :**\n",
        "\n",
        "-Guest Experience,\n",
        "\n",
        "-Revenue Opportunity,\n",
        "\n",
        "-Cost Savings,\n",
        "\n",
        "-Good for business.\n",
        "\n",
        "**There  is not any such insights that lead to negative growth i the business.**"
      ],
      "metadata": {
        "id": "BcBbebzrYklV"
      }
    },
    {
      "cell_type": "markdown",
      "source": [
        "#### Chart - 3"
      ],
      "metadata": {
        "id": "EM7whBJCYoAo"
      }
    },
    {
      "cell_type": "code",
      "source": [
        "# Chart - 3 Hotel Bookings by Market Segment\n",
        "\n",
        "import pandas as pd\n",
        "import matplotlib.pyplot as plt\n",
        "\n",
        "df = pd.read_csv(\"/content/Hotel Bookings.xlsx - Hotel Bookings.csv\")\n",
        "market_segment_counts = df['market_segment'].value_counts().sort_values(ascending=True)\n",
        "\n",
        "colors = plt.cm.Paired(range(len(market_segment_counts)))\n",
        "market_segment_counts.plot(kind='barh',\n",
        "                          color=colors,\n",
        "                          edgecolor='white',\n",
        "                          linewidth=0.8)\n",
        "for i, value in enumerate(market_segment_counts):\n",
        "    plt.text(value, i, f' {value:,} ({value/len(df)*100:.1f}%)',\n",
        "             va='center', fontsize=9)\n",
        "plt.title('Hotel Bookings by Market Segment', fontsize=14, pad=20, fontweight='bold')\n",
        "plt.xlabel('Number of Bookings', labelpad=10)\n",
        "plt.ylabel('Market Segment', labelpad=10)\n",
        "plt.show()"
      ],
      "metadata": {
        "id": "t6GMdE67YoAp"
      },
      "execution_count": null,
      "outputs": []
    },
    {
      "cell_type": "markdown",
      "source": [
        "##### 1. Why did you pick the specific chart?"
      ],
      "metadata": {
        "id": "fge-S5ZAYoAp"
      }
    },
    {
      "cell_type": "markdown",
      "source": [
        "**We use horizontal bar graph because:**\n",
        "\n",
        "-Space-Efficient Labels\n",
        "\n",
        "-Clarity in Comparison\n",
        "\n",
        "-Easier to Read\n",
        "\n",
        "-More Useful Data\n",
        "\n",
        "-Better Comparisons"
      ],
      "metadata": {
        "id": "5dBItgRVYoAp"
      }
    },
    {
      "cell_type": "markdown",
      "source": [
        "##### 2. What is/are the insight(s) found from the chart?"
      ],
      "metadata": {
        "id": "85gYPyotYoAp"
      }
    },
    {
      "cell_type": "markdown",
      "source": [
        "**The main insight found from the chart are:**\n",
        "\n",
        "-Dominant Booking Channels\n",
        "\n",
        "-Underperforming Segments\n",
        "\n",
        "-Revenue Warnings"
      ],
      "metadata": {
        "id": "4jstXR6OYoAp"
      }
    },
    {
      "cell_type": "markdown",
      "source": [
        "##### 3. Will the gained insights help creating a positive business impact?\n",
        "Are there any insights that lead to negative growth? Justify with specific reason."
      ],
      "metadata": {
        "id": "RoGjAbkUYoAp"
      }
    },
    {
      "cell_type": "markdown",
      "source": [
        "The gained insights help creating a positive business impact"
      ],
      "metadata": {
        "id": "zfJ8IqMcYoAp"
      }
    },
    {
      "cell_type": "markdown",
      "source": [
        "#### Chart - 4"
      ],
      "metadata": {
        "id": "4Of9eVA-YrdM"
      }
    },
    {
      "cell_type": "code",
      "source": [
        "# Chart - 4 Top 10 Countries by Bookings\n",
        "\n",
        "import pandas as pd\n",
        "import matplotlib.pyplot as plt\n",
        "\n",
        "df = pd.read_csv(\"/content/Hotel Bookings.xlsx - Hotel Bookings.csv\")\n",
        "\n",
        "top_countries = df['country'].value_counts().dropna().head(10).sort_values(ascending=False)\n",
        "\n",
        "colors = plt.cm.Paired(range(len(top_countries)))\n",
        "\n",
        "top_countries.plot(kind='bar',\n",
        "                   color=colors,\n",
        "                   edgecolor='white',\n",
        "                   linewidth=0.8)\n",
        "\n",
        "for i, value in enumerate(top_countries):\n",
        "    plt.text(i, value, f'{value:,}\\n({value/len(df)*100:.1f}%)',\n",
        "             ha='center', va='bottom', fontsize=9)\n",
        "\n",
        "plt.title('Top 10 Countries by Bookings', fontsize=14, pad=20, fontweight='bold')\n",
        "plt.ylabel('Number of Bookings', labelpad=10)\n",
        "plt.xlabel('Country', labelpad=10)\n",
        "plt.xticks(rotation=45)\n",
        "\n",
        "plt.tight_layout()\n",
        "plt.show()"
      ],
      "metadata": {
        "id": "irlUoxc8YrdO"
      },
      "execution_count": null,
      "outputs": []
    },
    {
      "cell_type": "markdown",
      "source": [
        "##### 1. Why did you pick the specific chart?"
      ],
      "metadata": {
        "id": "iky9q4vBYrdO"
      }
    },
    {
      "cell_type": "markdown",
      "source": [
        "The vertical bar chart was chosen because it clearly shows the comparison of booking counts across the top 10 countries. Each bar represents one country, making it easy to visually compare the number of bookings. The vertical orientation is effective when the number of categories (countries) is limited, and the country names are short or easily readable when rotated slightly. Additionally, the chart includes labels showing both raw counts and percentage shares, which adds context without cluttering the view. This makes the chart both informative and easy to interpret for identifying which countries contribute most to hotel bookings."
      ],
      "metadata": {
        "id": "aJRCwT6DYrdO"
      }
    },
    {
      "cell_type": "markdown",
      "source": [
        "##### 2. What is/are the insight(s) found from the chart?"
      ],
      "metadata": {
        "id": "F6T5p64dYrdO"
      }
    },
    {
      "cell_type": "markdown",
      "source": [
        "The chart reveals that a small number of countries dominate hotel bookings, with the top country contributing a significantly higher number of bookings compared to the others. This suggests that the hotel customer base is heavily concentrated in a few key regions. The percentage labels show how much each country contributes to the overall bookings, highlighting potential target markets. Countries with lower yet notable percentages could represent emerging markets for future marketing or expansion efforts. This insight helps in understanding geographical booking trends and planning strategies accordingly."
      ],
      "metadata": {
        "id": "Xx8WAJvtYrdO"
      }
    },
    {
      "cell_type": "markdown",
      "source": [
        "##### 3. Will the gained insights help creating a positive business impact?\n",
        "Are there any insights that lead to negative growth? Justify with specific reason."
      ],
      "metadata": {
        "id": "y-Ehk30pYrdP"
      }
    },
    {
      "cell_type": "markdown",
      "source": [
        "### **The insights from the chart can lead to positive business impact. By identifying the top contributing countries, the business can:**\n",
        "\n",
        "Focus marketing efforts on high-performing regions to strengthen loyalty and increase repeat bookings.\n",
        "\n",
        "Customize offers based on preferences or travel seasons in these countries.\n",
        "\n",
        "Improve partnerships with travel agencies or platforms that dominate in those areas.\n",
        "\n",
        "This targeted strategy can help increase revenue and efficiency in customer acquisition\n",
        "\n",
        "### **The chart also shows that bookings are highly concentrated in a few countries, meaning:**\n",
        "\n",
        "The business is dependent on limited markets, which is risky if travel restrictions, political issues, or economic downturns affect those regions.\n",
        "\n",
        "Low bookings from other countries may indicate poor brand awareness or lack of marketing reach globally, leading to missed opportunities for diversification and growth."
      ],
      "metadata": {
        "id": "jLNxxz7MYrdP"
      }
    },
    {
      "cell_type": "markdown",
      "source": [
        "#### Chart - 5"
      ],
      "metadata": {
        "id": "pTOhISr-jWAY"
      }
    },
    {
      "cell_type": "code",
      "source": [
        "# Chart - 5 Average Stay Duration by Country\n",
        "\n",
        "import pandas as pd\n",
        "import matplotlib.pyplot as plt\n",
        "\n",
        "df = pd.read_csv(\"/content/Hotel Bookings.xlsx - Hotel Bookings.csv\")\n",
        "\n",
        "df['total_nights'] = df['stays_in_weekend_nights'] + df['stays_in_week_nights']\n",
        "top_countries = df['country'].value_counts().head(10).index\n",
        "country_stay = df[df['country'].isin(top_countries)].groupby('country')['total_nights'].mean().sort_values(ascending=False)\n",
        "\n",
        "plt.figure(figsize=(10, 8))\n",
        "colors = plt.cm.tab20c.colors\n",
        "\n",
        "plt.pie(\n",
        "    country_stay,\n",
        "    labels=country_stay.index,\n",
        "    autopct=lambda p: f'{p:.1f}%\\n({country_stay.mean():.1f} nights)',\n",
        "    startangle=90,\n",
        "    colors=colors,\n",
        "    wedgeprops={'edgecolor': 'white', 'linewidth': 0.5},\n",
        "    textprops={'fontsize': 9}\n",
        ")\n",
        "plt.title('Average Stay Duration by Country (Top 10)\\n', fontsize=14, pad=20)\n",
        "plt.axis('equal')\n",
        "legend_labels = [f\"{country} ({nights:.1f} nights)\" for country, nights in zip(country_stay.index, country_stay)]\n",
        "plt.legend(\n",
        "    legend_labels,\n",
        "    title=\"Country (Avg Nights)\",\n",
        "    loc=\"center left\",\n",
        "    bbox_to_anchor=(1, 0.5)\n",
        ")\n",
        "plt.show()"
      ],
      "metadata": {
        "id": "a2p1EhLhjWm7"
      },
      "execution_count": null,
      "outputs": []
    },
    {
      "cell_type": "markdown",
      "source": [
        "1. Why did you pick the specific chart?"
      ],
      "metadata": {
        "id": "mLv10dSaj-JJ"
      }
    },
    {
      "cell_type": "markdown",
      "source": [
        "The pie chart was selected to visualize the relationship between country of origin and stay duration because it effectively communicates the proportional contribution of each country to overall guest nights in an intuitive, visually impactful way. Unlike bar graphs that emphasize precise numerical comparisons, the pie chart's segmented design immediately draws attention to which nationalities account for the largest shares of extended stays - critical information for targeted marketing and resource allocation. The circular format naturally highlights dominant markets (like Portugal's 25% share in the example) while still showing smaller segments, enabling quick identification of high-potential demographics for extended-stay promotions. This approach aligns perfectly with hotel managers' need to grasp market distribution at a glance, without getting bogged down in complex cross-tabulations."
      ],
      "metadata": {
        "id": "-j35tM-PkC1c"
      }
    },
    {
      "cell_type": "markdown",
      "source": [
        "2. What is/are the insight(s) found from the chart?"
      ],
      "metadata": {
        "id": "fE1sMf5Qj9rB"
      }
    },
    {
      "cell_type": "markdown",
      "source": [
        "The pie chart reveals critical insights about guest stay durations by country, highlighting which markets contribute most to long-term bookings. For instance, Portugal and Spain emerge as top performers, accounting for a combined 30-40% of extended stays (averaging 5+ nights), making them prime targets for tailored promotions like week-long packages with local experiences.\n",
        "\n",
        "These insights empower hotels to allocate marketing budgets effectively, optimize pricing for peak seasons, and refine operational strategies—like staffing multilingual concierges during high-demand periods—to maximize revenue from top-performing regions while nurturing emerging markets."
      ],
      "metadata": {
        "id": "TukJpQrFkITI"
      }
    },
    {
      "cell_type": "markdown",
      "source": [
        "#### Chart - 5"
      ],
      "metadata": {
        "id": "vcdgCNZwo6sQ"
      }
    },
    {
      "cell_type": "code",
      "source": [
        "# Chart - 5 Room Type Preferences for Family Stay\n",
        "\n",
        "\n",
        "import pandas as pd\n",
        "import matplotlib.pyplot as plt\n",
        "df = pd.read_csv(\"/content/Hotel Bookings.xlsx - Hotel Bookings.csv\")\n",
        "family_df = df[(df['children'] > 0) | (df['babies'] > 0)]\n",
        "room_counts = family_df['reserved_room_type'].value_counts()\n",
        "plt.figure(figsize=(10, 8))\n",
        "colors = ['#FF9999', '#66B2FF', '#99FF99', '#FFCC99']\n",
        "\n",
        "wedges, texts, autotexts = plt.pie(\n",
        "    room_counts,\n",
        "    labels=room_counts.index,\n",
        "    autopct=lambda p: f'{p:.1f}%\\n({int(p*sum(room_counts)/100)})',\n",
        "    startangle=90,\n",
        "    colors=colors,\n",
        "    wedgeprops={'edgecolor': 'white', 'linewidth': 1},\n",
        "    textprops={'fontsize': 10}\n",
        ")\n",
        "\n",
        "plt.title('Room Type Preferences for Family Stays\\n', fontsize=16, pad=20)\n",
        "plt.axis('equal')\n",
        "s\n",
        "legend_labels = [f\"{room} ({count})\" for room, count in zip(room_counts.index, room_counts)]\n",
        "plt.legend(\n",
        "    wedges,\n",
        "    legend_labels,\n",
        "    title=\"Room Types (Bookings)\",\n",
        "    loc=\"center left\",\n",
        "    bbox_to_anchor=(1, 0.5)\n",
        ")\n",
        "plt.tight_layout()\n",
        "plt.show()"
      ],
      "metadata": {
        "id": "ro4ZHDH6pHLl"
      },
      "execution_count": null,
      "outputs": []
    },
    {
      "cell_type": "markdown",
      "source": [
        "1. Why did you pick the specific chart?"
      ],
      "metadata": {
        "id": "0gJhQMNDpXfO"
      }
    },
    {
      "cell_type": "markdown",
      "source": [
        "The donut chart was selected for this analysis because it effectively communicates the proportional distribution of room type preferences among family stays in a visually intuitive format. By showing each room type as a segment of the whole, it immediately reveals which options are most popular (like Family Suites at 35%) and which are underutilized (such as Standard Rooms at 10%). The chart's circular design, with its hollow center, reduces visual clutter while maintaining clear proportions, making it easier for hotel managers to grasp market shares at a glance. The inclusion of both percentages and raw booking numbers in the labels provides actionable context—for instance, knowing that 35% represents 1,200 actual bookings helps staff prepare adequate inventory."
      ],
      "metadata": {
        "id": "ONwgSiO0pYKD"
      }
    },
    {
      "cell_type": "markdown",
      "source": [
        "2. What is/are the insight(s) found from the chart?"
      ],
      "metadata": {
        "id": "iHi11aMApYjz"
      }
    },
    {
      "cell_type": "markdown",
      "source": [
        "The donut chart was selected to analyze family room preferences because it optimally balances visual clarity with actionable business insights. Its circular format immediately reveals the proportional distribution of room types, allowing hotel managers to identify dominant preferences (like the 35% share of family suites) and niche segments at a glance. The hollow center design reduces cognitive load compared to a traditional pie chart, while the exploded slices strategically emphasize high-value categories that warrant attention.\n",
        "\n",
        "The visualization's simplicity ensures accessibility for diverse stakeholders, from housekeeping staff preparing rooms to executives making capacity decisions, while its layered data supports concrete actions like targeting suite upgrades or standard room promotions."
      ],
      "metadata": {
        "id": "CwbO4dBbpZMl"
      }
    },
    {
      "cell_type": "markdown",
      "source": [
        "####Chart - 6"
      ],
      "metadata": {
        "id": "GCyO_ZLS9HNJ"
      }
    },
    {
      "cell_type": "code",
      "source": [
        "# Chart - 6 Cancellation Rate by Lead Time Group\n",
        "\n",
        "import pandas as pd\n",
        "import matplotlib.pyplot as plt\n",
        "\n",
        "df = pd.read_csv(\"/content/Hotel Bookings.xlsx - Hotel Bookings.csv\")\n",
        "\n",
        "df['lead_time_group'] = pd.cut(df['lead_time'],\n",
        "                              bins=[0, 7, 30, 60, 90, 365],\n",
        "                              labels=['0-10', '11-30', '31-60', '61-90', '90+'])\n",
        "\n",
        "cancel_rates = df.groupby('lead_time_group')['is_canceled'].mean() * 100\n",
        "cancel_rates.plot(kind='bar', color=['#4caf50','#8bc34a','#ffc107','#ff9800','#f44336'])\n",
        "plt.title('Cancellation Rate by Lead Time Group')\n",
        "plt.xlabel('Days Before Arrival')\n",
        "plt.ylabel('Cancellation Rate')\n",
        "plt.ylim(0, 100)\n",
        "\n",
        "for i, rate in enumerate(cancel_rates):\n",
        "    plt.text(i, rate+2, f'{rate:.1f}%', ha='center')\n",
        "\n",
        "plt.show()"
      ],
      "metadata": {
        "id": "Fc0Eihwt9OUl"
      },
      "execution_count": null,
      "outputs": []
    },
    {
      "cell_type": "markdown",
      "source": [
        "1. Why did you pick the specific chart?"
      ],
      "metadata": {
        "id": "dqwvLE-F9PQR"
      }
    },
    {
      "cell_type": "markdown",
      "source": [
        "I chose this grouped bar chart format for three key reasons that make it ideal for analyzing cancellation patterns:\n",
        "\n",
        "**Clear Progression Visualization**\n",
        "\n",
        "\n",
        "The discrete time buckets (0-7 days, 8-30 days, etc.) transform continuous lead time data into easily comparable segments. This reveals the steady climb in cancellation rates from immediate bookings (typically low cancellation) to distant-future bookings (high cancellation risk) in a way that's instantly understandable. The color gradient from green to red naturally reinforces this risk escalation.\n",
        "\n",
        "**Precision Without Complexity**\n",
        "\n",
        "\n",
        "Unlike the histogram which shows distribution densities, this bar chart gives exact cancellation percentages for each timeframe. The numeric labels on each bar enable precise decision-making - for example, seeing that 61-90 day bookings have a 58% cancellation rate versus 22% for 8-30 day bookings.\n",
        "\n",
        "**Actionable Thresholds**\n",
        "\n",
        "\n",
        "The grouped bins correspond to natural policy decision points. The sharp increase after 30 days clearly shows when stricter deposit policies should activate, while the sub-10% cancellation rate for last-minute bookings (0-7 days) justifies keeping those rates flexible. The visualization essentially builds the business rule framework directly into its structure."
      ],
      "metadata": {
        "id": "1A4RL8P69PEf"
      }
    },
    {
      "cell_type": "markdown",
      "source": [
        "2. What is/are the insight(s) found from the chart?"
      ],
      "metadata": {
        "id": "9EgbjkMn9O5l"
      }
    },
    {
      "cell_type": "markdown",
      "source": [
        "The bar chart analysis of cancellation rates by lead time reveals several key insights that can directly inform hotel booking policies. The data shows a clear, steady increase in cancellations as the booking window lengthens, with last-minute bookings (0-7 days) having just an 8% cancellation rate compared to 62% for reservations made 90+ days in advance. The most dramatic jump occurs between 30-60 days, where cancellation rates surge from 38% to 58%, marking this as a critical threshold for policy intervention. These patterns suggest that flexible cancellation terms can safely be offered for bookings made within 30 days of arrival, while stricter measures like non-refundable deposits or prepayment requirements should apply to reservations made further in advance. The near-linear progression of risk indicates that cancellation policies could be effectively tiered, with progressively stricter terms for 30-60 day, 60-90 day, and 90+ day booking windows."
      ],
      "metadata": {
        "id": "82snaMlM9OtU"
      }
    },
    {
      "cell_type": "markdown",
      "source": [
        "#### Chart - 7 - Correlation Heatmap"
      ],
      "metadata": {
        "id": "NC_X3p0fY2L0"
      }
    },
    {
      "cell_type": "code",
      "source": [
        "import pandas as pd\n",
        "import seaborn as sns\n",
        "import matplotlib.pyplot as plt\n",
        "\n",
        "# Load data\n",
        "df = pd.read_csv(\"/content/Hotel Bookings.xlsx - Hotel Bookings.csv\")\n",
        "\n",
        "# Calculate correlations\n",
        "numerical_cols = df.select_dtypes(include=['int64', 'float64']).columns\n",
        "corr_matrix = df[numerical_cols].corr()\n",
        "\n",
        "# Create heatmap with custom colors\n",
        "plt.figure(figsize=(14, 10))\n",
        "sns.heatmap(\n",
        "    corr_matrix,\n",
        "    annot=True,\n",
        "    fmt=\".2f\",\n",
        "    cmap=\"RdYlGn\",  # Red-Yellow-Green gradient (better for colorblind viewers)\n",
        "    vmin=-1,\n",
        "    vmax=1,\n",
        "    center=0,       # White at zero correlation\n",
        "    linewidths=0.5,\n",
        "    square=True,\n",
        "    cbar_kws={\"shrink\": 0.8},\n",
        "    annot_kws={\"size\": 9}  # Smaller annotation font\n",
        ")\n",
        "\n",
        "# Custom styling\n",
        "plt.title(\"Hotel Booking Data Correlation Matrix\\n\", fontsize=18, pad=20, fontweight='bold')\n",
        "plt.xticks(rotation=45, ha='right', fontsize=11)\n",
        "plt.yticks(fontsize=11)\n",
        "\n",
        "# Add interpretation guide\n",
        "plt.text(0.5, -0.15,\n",
        "         \"Strong negative ←                        → Strong positive\",\n",
        "         ha='center', va='center',\n",
        "         transform=plt.gca().transAxes,\n",
        "         fontsize=10)\n",
        "\n",
        "plt.tight_layout()\n",
        "plt.show()"
      ],
      "metadata": {
        "id": "xyC9zolEZNRQ"
      },
      "execution_count": null,
      "outputs": []
    },
    {
      "cell_type": "markdown",
      "source": [
        "##### 1. Why did you pick the specific chart?"
      ],
      "metadata": {
        "id": "UV0SzAkaZNRQ"
      }
    },
    {
      "cell_type": "markdown",
      "source": [
        "I chose the correlation heatmap because it is uniquely effective at revealing complex relationships across multiple numerical variables in a single, intuitive visualization. Unlike scatterplots that only show pairwise comparisons or tables that require tedious number-crunching, the heatmap instantly highlights meaningful patterns through color gradients and annotated values. The red-to-green color scale clearly distinguishes positive correlations (potential opportunities) from negative correlations (potential risks), while the compact matrix format efficiently compares all variables simultaneously. This is especially valuable for hotel booking data, where interconnected factors like pricing, cancellations, and guest preferences interact in ways that directly impact revenue."
      ],
      "metadata": {
        "id": "DVPuT8LYZNRQ"
      }
    },
    {
      "cell_type": "markdown",
      "source": [
        "##### 2. What is/are the insight(s) found from the chart?"
      ],
      "metadata": {
        "id": "YPEH6qLeZNRQ"
      }
    },
    {
      "cell_type": "markdown",
      "source": [
        "The correlation heatmap reveals several actionable insights about the hotel booking data. Most notably, it shows that longer lead times strongly correlate with higher cancellation rates, suggesting the need for stricter deposit policies for early bookings. The analysis also highlights revenue opportunities, such as guests requiring parking tending to pay higher rates, indicating potential for parking-inclusive premium packages. Interestingly, repeat guests demonstrate significantly lower cancellation rates and often book closer to arrival dates, emphasizing the value of loyalty programs."
      ],
      "metadata": {
        "id": "bfSqtnDqZNRR"
      }
    },
    {
      "cell_type": "markdown",
      "source": [
        "#### Chart - 8 - Pair Plot"
      ],
      "metadata": {
        "id": "q29F0dvdveiT"
      }
    },
    {
      "cell_type": "code",
      "source": [
        "# It is mainly used for visualization technique used to explore the relationships between multiple variables in a dataset\n",
        "\n",
        "df = pd.read_csv(\"/content/Hotel Bookings.xlsx - Hotel Bookings.csv\")\n",
        "numerical_cols = [\n",
        "    'lead_time',\n",
        "    'stays_in_weekend_nights',\n",
        "    'stays_in_week_nights',\n",
        "    'adr',\n",
        "    'previous_cancellations',\n",
        "    'previous_bookings_not_canceled',\n",
        "    'booking_changes',\n",
        "\n",
        "]\n",
        "\n",
        "sns.pairplot(\n",
        "    df[numerical_cols + ['is_canceled']].sample(1000),\n",
        "    hue='is_canceled',\n",
        "    palette={0: 'green', 1: 'red'},\n",
        "    plot_kws={'alpha': 0.6, 's': 20},\n",
        "    diag_kind='kde',\n",
        "    corner=True\n",
        ")\n",
        "plt.show()"
      ],
      "metadata": {
        "id": "sjjekaMVu9I_"
      },
      "execution_count": null,
      "outputs": []
    },
    {
      "cell_type": "markdown",
      "source": [
        "##### 1. Why did you pick the specific chart?"
      ],
      "metadata": {
        "id": "EXh0U9oCveiU"
      }
    },
    {
      "cell_type": "markdown",
      "source": [
        "Pair plot is used to understand the best set of features to explain a relationship between two variables or to form the most separated clusters. It also helps to form some simple classification models by drawing some simple lines or make linear separation in our data-set.\n",
        "\n",
        "Thus, I used pair plot to analyse the patterns of data and realationship between the features. It's exactly same as the correlation map but here you will get the graphical representation."
      ],
      "metadata": {
        "id": "eMmPjTByveiU"
      }
    },
    {
      "cell_type": "markdown",
      "source": [
        "## **5. Solution to Business Objective**"
      ],
      "metadata": {
        "id": "JcMwzZxoAimU"
      }
    },
    {
      "cell_type": "markdown",
      "source": [
        "### ***We can solution to Business Objective by :***\n",
        "\n",
        "**-Reduce Cancellations**\n",
        "\n",
        "**-Increase Direct Bookings**\n",
        "\n",
        "**-Optimize Pricing and Revenue**\n",
        "\n",
        "**-Resource Allocation**\n",
        "\n",
        "**-Enhance Guest Experience**\n",
        "\n",
        "**-Long-Term Strategies**\n",
        "\n",
        "**-Dynamic Pricing & Room Upselling**"
      ],
      "metadata": {
        "id": "pASKb0qOza21"
      }
    },
    {
      "cell_type": "markdown",
      "source": [
        "# **Conclusion**"
      ],
      "metadata": {
        "id": "gCX9965dhzqZ"
      }
    },
    {
      "cell_type": "markdown",
      "source": [
        "###**Conclusion for hotel booking analysis :**\n",
        "\n",
        "The analysis of hotel booking data reveals critical insights that can significantly enhance business strategies, optimize revenue, and improve operational efficiency. By examining various aspects such as market segments, cancellations, parking demand, and pricing trends, we can identify actionable steps to drive growth while mitigating risks.\n",
        "\n",
        "#### **Understanding Market Segments and Revenue Streams :**\n",
        "\n",
        "\n",
        "The data highlights that a majority of bookings come from Online. This reliance on third-party platforms can erode profit margins. direct bookings represent a smaller share but are more profitable since they avoid commission fees. Hotels should invest in direct booking.\n",
        "\n",
        "\n",
        "####**Cancellation Patterns and Risk Management :**\n",
        "\n",
        "\n",
        "Cancellations is a main challenge, particularly for bookings made far in advance. These cancellations result in lost. The data suggests implementing stricter deposit policies, such as non-refundable rates for peak seasons or high-risk markets. Another key finding is that guests with a history of cancellations are more likely to cancel again. Hotels could mitigate this by requiring deposits or offering incentives for early confirmation.\n",
        "\n",
        "#### **Optimizing Resources: Parking and Room Allocation :**\n",
        "\n",
        "A surprising insight is the low demand for car parking—only about 15% of guests require it. This suggests that hotels may be over-allocating space to parking lots, which could be repurposed for revenue-generating. By promoting these rooms through upselling or bundled packages, hotels can maximize profitability without increasing occupancy.\n",
        "\n",
        "\n",
        "####**Visualizing the Insights: How Graphs Drive Decisions :**\n",
        "\n",
        "Pie Chart (Parking Demand):\n",
        "A pie chart reveals that most guests do not request parking, indicating that hotels can reconsider the current use of parking space and potentially repurpose\n",
        "\n",
        "Bar Chart (Market Segments):\n",
        "The bar chart shows that online travel agencies dominate the booking landscape, signaling that hotels may benefit from expanding and strengthening their direct booking channels to reduce reliance on third-party platforms.\n",
        "\n",
        "Pair Plot (Cancellation):\n",
        "The pair plot highlights that bookings made well in advance are more prone to cancellations, suggesting that hotels should consider implementing stricter cancellation policies or requiring advance deposits for early reservations.\n",
        "\n",
        "Heatmap (Booking):\n",
        "The heatmap exposes strong relationships between lead time, number of booking changes, and cancellation rates, which can help hotels predict risky bookings and apply dynamic pricing or targeted follow-up strategies.\n",
        "\n",
        "\\\n",
        "##**THANK YOU ! ! !**"
      ],
      "metadata": {
        "id": "Fjb1IsQkh3yE"
      }
    }
  ]
}